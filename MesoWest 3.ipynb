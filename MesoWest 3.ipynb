{
 "cells": [
  {
   "cell_type": "markdown",
   "metadata": {
    "slideshow": {
     "slide_type": "slide"
    }
   },
   "source": [
    "# MesoWest Data"
   ]
  },
  {
   "cell_type": "markdown",
   "metadata": {},
   "source": [
    "# External Dataset\n",
    "\n",
    "## [MesoWest](https://mesowest.utah.edu/)\n",
    "In the example below the MesoWest surface observations will be used to make a time series plot for comparison with WRF.  The surface temperature and wind speed at one location will be plotted.  MesoWest has an API with a Python module to load data directly into Python.  You will need to register for an account.\n",
    "\n",
    "* Register for a Token [here](https://developers.synopticdata.com/about/tokens/).\n",
    "\n",
    "* Get the MesoPy module, do this from the Linux command line by:\n",
    "\n",
    "> `python -m pip install MesoPy`\n",
    "\n",
    "* Or in Python or a Notebook by typing:\n",
    "\n",
    "> `import sys`\n",
    "\n",
    "> `!{sys.executable} -m pip install MesoPy`\n",
    "\n",
    "In the code cell below there is an example using this module to get MesoWest data for the WRF test case.\n",
    "\n",
    "## <font color=red> Import MesoWest Data </font>"
   ]
  },
  {
   "cell_type": "markdown",
   "metadata": {},
   "source": [
    "# The example below extracts MesoWest data for one station ID"
   ]
  },
  {
   "cell_type": "code",
   "execution_count": null,
   "metadata": {},
   "outputs": [],
   "source": [
    "import sys\n",
    "!{sys.executable} -m pip install MesoPy\n",
    "\n",
    "from MesoPy import Meso\n",
    "import numpy as np\n",
    "import datetime as DT\n",
    "\n",
    "m = Meso(token='YOUR-TOKEN-HERE')\n",
    "\n",
    "# Returns a time series from SLC airport station KSLC from Jan 27 00z to Jan 31 00z 2017\n",
    "slctime = m.timeseries(stid='kslc', start='201701270000', end='201701310000')\n",
    "\n",
    "lat = float(slctime[\"STATION\"][0][\"LATITUDE\"])\n",
    "lon = float(slctime[\"STATION\"][0][\"LONGITUDE\"])\n",
    "T = slctime[\"STATION\"][0][\"OBSERVATIONS\"]['air_temp_set_1']\n",
    "WS = slctime[\"STATION\"][0][\"OBSERVATIONS\"]['wind_speed_set_1']\n",
    "WD = slctime[\"STATION\"][0][\"OBSERVATIONS\"]['wind_direction_set_1']\n",
    "Tdp = slctime[\"STATION\"][0][\"OBSERVATIONS\"]['dew_point_temperature_set_1']\n",
    "time = slctime[\"STATION\"][0][\"OBSERVATIONS\"]['date_time']\n",
    "\n",
    "# Convert the time to a numpy array for plotting with WRF outputs later\n",
    "MWtime = np.array(time,dtype='datetime64')\n",
    "MWtime2 = np.datetime_as_string(MWtime,unit='m')\n",
    "\n",
    "# Convert the Temperautre to Kelvin for plotting with WRF outputs later \n",
    "Tkelvin = np.array(T)+273.15     # Convert to K\n",
    "\n",
    "import matplotlib.pyplot as plt\n",
    "\n",
    "#Quick plot to make sure the data was read in and seems reasonable\n",
    "plt.plot(time,T,label=\"Temp\")\n",
    "plt.plot(time,WS,label=\"Wind Speed\")\n",
    "plt.plot(time,Tdp,label=\"Dew Point\")\n",
    "plt.legend(loc=\"best\", fontsize=14)\n",
    "\n",
    "plt.show()"
   ]
  },
  {
   "cell_type": "markdown",
   "metadata": {},
   "source": [
    "# The example below is to use a radius to get all stations"
   ]
  },
  {
   "cell_type": "code",
   "execution_count": null,
   "metadata": {},
   "outputs": [],
   "source": [
    "# Collects sensor towers within 25 miles of downtown Chicago\n",
    "\n",
    "radius = 25 # miles\n",
    "latitude = 41.888636\n",
    "longitude = -87.631688\n",
    "cook = m.metadata(state = 'IL', county = 'Cook', radius = (latitude,longitude,radius))\n",
    "dupage = m.metadata(state = 'IL', county = 'Dupage', radius = (latitude,longitude,radius))\n",
    "will = m.metadata(state = 'IL', county = 'Will', radius = (latitude,longitude,radius)) "
   ]
  },
  {
   "cell_type": "markdown",
   "metadata": {},
   "source": [
    "### The code below uses the results from the code block above, it removes stations with NaNs based on time"
   ]
  },
  {
   "cell_type": "code",
   "execution_count": null,
   "metadata": {},
   "outputs": [],
   "source": [
    "#Removes sensor towers that were not active in 2012\n",
    "def checktime(county):\n",
    "    county_towers = county[\"STATION\"]\n",
    "    county_STID = []\n",
    "    \n",
    "    for i in range(len(county_towers)):\n",
    "        try:\n",
    "            start_year = int(county_towers[i][\"PERIOD_OF_RECORD\"][\"start\"][0:4])\n",
    "            end_year = int(county_towers[i][\"PERIOD_OF_RECORD\"][\"end\"][0:4])\n",
    "\n",
    "            if start_year < 2012 and end_year > 2012: # makes sure the station was active in 2012\n",
    "                county_STID.append(county_towers[i][\"STID\"])\n",
    "\n",
    "        except: # some of the stations don't have start,end so we won't add them\n",
    "            ''\n",
    "            \n",
    "    return(county_STID)\n",
    "    \n",
    "STID = checktime(cook) + checktime(dupage) + checktime(will)  "
   ]
  }
 ],
 "metadata": {
  "kernelspec": {
   "display_name": "Python 3",
   "language": "python",
   "name": "python3"
  },
  "language_info": {
   "codemirror_mode": {
    "name": "ipython",
    "version": 3
   },
   "file_extension": ".py",
   "mimetype": "text/x-python",
   "name": "python",
   "nbconvert_exporter": "python",
   "pygments_lexer": "ipython3",
   "version": "3.6.6+"
  }
 },
 "nbformat": 4,
 "nbformat_minor": 4
}
